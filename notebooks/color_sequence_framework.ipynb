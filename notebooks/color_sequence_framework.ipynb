{
 "cells": [
  {
   "cell_type": "markdown",
   "metadata": {},
   "source": [
    "# Write a sequence of colored blocks to an image in reading order."
   ]
  },
  {
   "cell_type": "code",
   "execution_count": 3,
   "metadata": {},
   "outputs": [],
   "source": [
    "import itertools as it\n",
    "\n",
    "from PIL import Image"
   ]
  },
  {
   "cell_type": "code",
   "execution_count": 20,
   "metadata": {},
   "outputs": [],
   "source": [
    "def next_color(seq):\n",
    "    return next(seq)\n",
    "\n",
    "def next_byte_color(seq):\n",
    "    r, g, b = next(seq), next(seq), next(seq)\n",
    "    return r, g, b\n",
    "\n",
    "class ColorSequenceImage(object):\n",
    "    \"\"\"A sequence of colored blocks printed in reading order.\"\"\"\n",
    "    \n",
    "    def __init__(self, image_width, image_height, block_width, block_height):\n",
    "        self.img = Image.new('RGB', (image_width, image_height))\n",
    "        self.pix = self.img.load()\n",
    "        self.block_width = block_width\n",
    "        self.block_height = block_height\n",
    "    \n",
    "    def write(self, seq, output_filename, next_color='next_color'):\n",
    "        \"\"\"Write the sequence of colors out to file.\"\"\"\n",
    "        next_color = globals()[next_color]\n",
    "        i, j = 0, 0\n",
    "        while j < self.img.height:\n",
    "            c = next_color(seq)\n",
    "            self.print_block(i, j, c)\n",
    "            if i + self.block_width >= self.img.width:\n",
    "                j += self.block_height\n",
    "            i += self.block_width\n",
    "            i %= self.img.width\n",
    "        self.img.save(output_filename)\n",
    "    \n",
    "    def print_block(self, i, j, c):\n",
    "        \"\"\"Print a block to the image.\"\"\"\n",
    "        for iplus, jplus in it.product(range(self.block_width), range(self.block_height)):\n",
    "            x = (i + iplus) % self.img.width\n",
    "            y = j + jplus if (i + iplus) < self.img.width else j + self.block_height + jplus\n",
    "            if y < self.img.height:\n",
    "                self.pix[x, y] = c"
   ]
  },
  {
   "cell_type": "code",
   "execution_count": 21,
   "metadata": {},
   "outputs": [],
   "source": [
    "# Try it out\n",
    "\n",
    "def off_on():\n",
    "    \"\"\"Generate black and white alternating.\"\"\"\n",
    "    while True:\n",
    "        yield (0, 0, 0)\n",
    "        yield (255, 255, 255)\n",
    "\n",
    "def white():\n",
    "    \"\"\"Generate white.\"\"\"\n",
    "    while True:\n",
    "        yield (255, 255, 255)"
   ]
  },
  {
   "cell_type": "code",
   "execution_count": 22,
   "metadata": {},
   "outputs": [
    {
     "name": "stdout",
     "output_type": "stream",
     "text": [
      "\u001b[1m\u001b[34mhello_world\u001b[m\u001b[m/ \u001b[1m\u001b[34mnotebooks\u001b[m\u001b[m/   \u001b[1m\u001b[34moutput\u001b[m\u001b[m/\r\n"
     ]
    }
   ],
   "source": [
    "ls .."
   ]
  },
  {
   "cell_type": "code",
   "execution_count": 19,
   "metadata": {},
   "outputs": [],
   "source": [
    "color_seq = ColorSequenceImage(100, 100, 15, 10)\n",
    "color_seq.print_block(90, 90, next(white()))\n",
    "color_seq.img.save('../output/block.png')"
   ]
  },
  {
   "cell_type": "code",
   "execution_count": 24,
   "metadata": {},
   "outputs": [],
   "source": [
    "color_seq = ColorSequenceImage(100, 100, 15, 10)\n",
    "color_seq.write(off_on(), '../output/off_on.png')"
   ]
  },
  {
   "cell_type": "code",
   "execution_count": 25,
   "metadata": {},
   "outputs": [],
   "source": [
    "# OK! Seems to be working now. Stream some different bytes.\n",
    "\n",
    "def bytes_from_file(filename):\n",
    "    file_in = open(filename, 'rb')\n",
    "    bytes_ = file_in.read()\n",
    "    i = 0\n",
    "    while True:\n",
    "        yield bytes_[i]\n",
    "        i += 1\n",
    "        i %= len(bytes_)"
   ]
  },
  {
   "cell_type": "code",
   "execution_count": 26,
   "metadata": {},
   "outputs": [],
   "source": [
    "hello_world = ColorSequenceImage(500, 500, 10, 5)\n",
    "hello_world.write(\n",
    "    bytes_from_file('../hello_world/hello_world'),\n",
    "    '../output/hello_world.png',\n",
    "    next_color='next_byte_color'\n",
    ")"
   ]
  },
  {
   "cell_type": "code",
   "execution_count": 27,
   "metadata": {},
   "outputs": [
    {
     "data": {
      "text/plain": [
       "8432"
      ]
     },
     "execution_count": 27,
     "metadata": {},
     "output_type": "execute_result"
    }
   ],
   "source": [
    "# Look at the bytes of the file and see if it's working correctly (should be lots of null bytes)\n",
    "\n",
    "file_in = open('../hello_world/hello_world', 'rb')\n",
    "bytes_ = file_in.read()\n",
    "len(bytes_)"
   ]
  },
  {
   "cell_type": "code",
   "execution_count": 29,
   "metadata": {},
   "outputs": [
    {
     "data": {
      "text/plain": [
       "b'\\x01\\x00\\x00\\x01\\x00\\x00\\x00\\x00\\x00\\x00\\x00\\x00$\\x00\\x00\\x00\\x01\\x00\\x00\\x01\\x00\\x00\\x00\\x00\\x00\\x00\\x00\\x00\\x02\\x00\\x00\\x00\\x03\\x00\\x00\\x00\\x00\\x00\\x00@\\x02\\x00\\x00\\x00 \\x00__mh_execute_header\\x00_main\\x00_printf\\x00dyld_stub_binder\\x00\\x00\\x00\\x00'"
      ]
     },
     "execution_count": 29,
     "metadata": {},
     "output_type": "execute_result"
    }
   ],
   "source": [
    "bytes_[-100:]"
   ]
  },
  {
   "cell_type": "code",
   "execution_count": null,
   "metadata": {},
   "outputs": [],
   "source": [
    "# OK, so if not entirely null, then very dark."
   ]
  }
 ],
 "metadata": {
  "kernelspec": {
   "display_name": "Python 3",
   "language": "python",
   "name": "python3"
  },
  "language_info": {
   "codemirror_mode": {
    "name": "ipython",
    "version": 3
   },
   "file_extension": ".py",
   "mimetype": "text/x-python",
   "name": "python",
   "nbconvert_exporter": "python",
   "pygments_lexer": "ipython3",
   "version": "3.6.5"
  }
 },
 "nbformat": 4,
 "nbformat_minor": 2
}
